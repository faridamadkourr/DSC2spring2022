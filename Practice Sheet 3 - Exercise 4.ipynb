{
 "cells": [
  {
   "cell_type": "markdown",
   "id": "0c834ea5",
   "metadata": {},
   "source": [
    "### Exercise 4"
   ]
  },
  {
   "cell_type": "code",
   "execution_count": 1,
   "id": "b8d2da7d",
   "metadata": {},
   "outputs": [],
   "source": [
    "import scipy"
   ]
  },
  {
   "cell_type": "code",
   "execution_count": 2,
   "id": "a3c10c76",
   "metadata": {},
   "outputs": [],
   "source": [
    "import numpy as np"
   ]
  },
  {
   "cell_type": "code",
   "execution_count": 3,
   "id": "80f0d4d3",
   "metadata": {},
   "outputs": [],
   "source": [
    "from scipy.stats import norm,t"
   ]
  },
  {
   "cell_type": "code",
   "execution_count": 4,
   "id": "0da146ca",
   "metadata": {},
   "outputs": [
    {
     "data": {
      "text/plain": [
       "2.093024054408263"
      ]
     },
     "execution_count": 4,
     "metadata": {},
     "output_type": "execute_result"
    }
   ],
   "source": [
    "t.ppf(0.975,19)"
   ]
  },
  {
   "cell_type": "code",
   "execution_count": 5,
   "id": "ffe66af9",
   "metadata": {},
   "outputs": [
    {
     "data": {
      "text/plain": [
       "2.860934606449914"
      ]
     },
     "execution_count": 5,
     "metadata": {},
     "output_type": "execute_result"
    }
   ],
   "source": [
    "t.ppf(0.995,19)"
   ]
  },
  {
   "cell_type": "code",
   "execution_count": 6,
   "id": "727f8396",
   "metadata": {},
   "outputs": [
    {
     "data": {
      "text/plain": [
       "1.959963984540054"
      ]
     },
     "execution_count": 6,
     "metadata": {},
     "output_type": "execute_result"
    }
   ],
   "source": [
    "norm.ppf(0.975,0,1)"
   ]
  },
  {
   "cell_type": "code",
   "execution_count": 7,
   "id": "17136229",
   "metadata": {},
   "outputs": [
    {
     "data": {
      "text/plain": [
       "2.5758293035489004"
      ]
     },
     "execution_count": 7,
     "metadata": {},
     "output_type": "execute_result"
    }
   ],
   "source": [
    "norm.ppf(0.995,0,1)"
   ]
  },
  {
   "cell_type": "markdown",
   "id": "dc4582fe",
   "metadata": {},
   "source": [
    "which of the following 95% CI of the mean computed from the same random sample with size 20 comes from the t distribution:\n",
    "(27.442969553309777,30.33435989685853) - normal interval command\n",
    "(27.398576403603965,30.37875304656434) - t-interval command\n",
    "mean and standard deviation are computed from the random standard deviation in the \n",
    "lower band-upper band\n",
    "(mean-ts/√n)-(mean+ts/√n)"
   ]
  },
  {
   "cell_type": "markdown",
   "id": "dd1acc39",
   "metadata": {},
   "source": [
    "deduce the sample mean of the random sample from the previous 95% confidence intervals"
   ]
  },
  {
   "cell_type": "markdown",
   "id": "9f2e7781",
   "metadata": {},
   "source": [
    "deduce the margin of error of confidence interval=\n",
    "(upper bound - lower bound) /2"
   ]
  },
  {
   "cell_type": "raw",
   "id": "6b215491",
   "metadata": {},
   "source": [
    "deduce the sample variances of the "
   ]
  }
 ],
 "metadata": {
  "kernelspec": {
   "display_name": "Python 3 (ipykernel)",
   "language": "python",
   "name": "python3"
  },
  "language_info": {
   "codemirror_mode": {
    "name": "ipython",
    "version": 3
   },
   "file_extension": ".py",
   "mimetype": "text/x-python",
   "name": "python",
   "nbconvert_exporter": "python",
   "pygments_lexer": "ipython3",
   "version": "3.9.7"
  }
 },
 "nbformat": 4,
 "nbformat_minor": 5
}
